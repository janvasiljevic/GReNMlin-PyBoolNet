{
 "cells": [
  {
   "cell_type": "markdown",
   "metadata": {},
   "source": [
    "# Gene Regulatory network Modeling (GRenMlin)\n"
   ]
  },
  {
   "cell_type": "markdown",
   "metadata": {},
   "source": [
    "### Libraries\n",
    "\n",
    "All the required code is implemented in `grn.py` (manipulation of a gene regulatory network, GRN) and `simulator.py` (running the simulations of a constructed network).\n"
   ]
  },
  {
   "cell_type": "code",
   "execution_count": 4,
   "metadata": {},
   "outputs": [],
   "source": [
    "import src.simulator as simulator\n",
    "import src.grn as grn\n",
    "import numpy as np"
   ]
  },
  {
   "cell_type": "code",
   "execution_count": 5,
   "metadata": {},
   "outputs": [
    {
     "name": "stdout",
     "output_type": "stream",
     "text": [
      "The autoreload extension is already loaded. To reload it, use:\n",
      "  %reload_ext autoreload\n"
     ]
    }
   ],
   "source": [
    "%load_ext autoreload\n",
    "%autoreload 2"
   ]
  },
  {
   "cell_type": "markdown",
   "metadata": {},
   "source": [
    "### Constructing the network\n",
    "\n",
    "Construction of the network is relatively straightforward. First, we need to call a constructor:\n"
   ]
  },
  {
   "cell_type": "code",
   "execution_count": 6,
   "metadata": {},
   "outputs": [],
   "source": [
    "my_grn = grn.GRN()"
   ]
  },
  {
   "cell_type": "markdown",
   "metadata": {},
   "source": [
    "In the next step, we can add different species. Input species do not degrade, while for all other (ordinary) species degradation rate needs to be specified.\n"
   ]
  },
  {
   "cell_type": "code",
   "execution_count": 7,
   "metadata": {},
   "outputs": [],
   "source": [
    "# input species\n",
    "my_grn.add_input_species(\"X1\")\n",
    "my_grn.add_input_species(\"X2\")\n",
    "\n",
    "# other species\n",
    "my_grn.add_species(\"Y\", 0.1)\n"
   ]
  },
  {
   "cell_type": "markdown",
   "metadata": {},
   "source": [
    "In the next step we can add a gene, which will be defined by a set of regulators and a set of products.\n",
    "\n",
    "The first gene will describe the function `not X1 and X2`\n"
   ]
  },
  {
   "cell_type": "code",
   "execution_count": 8,
   "metadata": {},
   "outputs": [],
   "source": [
    "# regulators of a gene\n",
    "regulators = [\n",
    "    {\"name\": \"X1\", \"type\": -1, \"Kd\": 5, \"n\": 2},\n",
    "    {\"name\": \"X2\", \"type\": 1, \"Kd\": 5, \"n\": 3},\n",
    "]\n",
    "# products of a gene\n",
    "products = [{\"name\": \"Y\"}]\n",
    "\n",
    "# adding a gene to the network - the first parameter specifies the rate of gene expression\n",
    "my_grn.add_gene(10, regulators, products)"
   ]
  },
  {
   "cell_type": "markdown",
   "metadata": {},
   "source": [
    "Similarly, we can add another gene. The second gene will describe the function `X1 and not X2`. Since both genes will produce the same output (`Y`) the network will implement `Y = (not X1 and X2) OR (X1 and not X2) = X1 XOR X2`.\n"
   ]
  },
  {
   "cell_type": "code",
   "execution_count": 9,
   "metadata": {},
   "outputs": [],
   "source": [
    "regulators = [\n",
    "    {\"name\": \"X1\", \"type\": 1, \"Kd\": 5, \"n\": 2},\n",
    "    {\"name\": \"X2\", \"type\": -1, \"Kd\": 5, \"n\": 3},\n",
    "]\n",
    "products = [{\"name\": \"Y\"}]\n",
    "my_grn.add_gene(10, regulators, products)"
   ]
  },
  {
   "cell_type": "markdown",
   "metadata": {},
   "source": [
    "We can check which genes are in the network:\n"
   ]
  },
  {
   "cell_type": "code",
   "execution_count": 10,
   "metadata": {},
   "outputs": [
    {
     "data": {
      "text/plain": [
       "[{'alpha': 10,\n",
       "  'regulators': [{'name': 'X1', 'type': -1, 'Kd': 5, 'n': 2},\n",
       "   {'name': 'X2', 'type': 1, 'Kd': 5, 'n': 3}],\n",
       "  'products': [{'name': 'Y'}],\n",
       "  'logic_type': 'and'},\n",
       " {'alpha': 10,\n",
       "  'regulators': [{'name': 'X1', 'type': 1, 'Kd': 5, 'n': 2},\n",
       "   {'name': 'X2', 'type': -1, 'Kd': 5, 'n': 3}],\n",
       "  'products': [{'name': 'Y'}],\n",
       "  'logic_type': 'and'}]"
      ]
     },
     "execution_count": 10,
     "metadata": {},
     "output_type": "execute_result"
    }
   ],
   "source": [
    "my_grn.genes"
   ]
  },
  {
   "cell_type": "markdown",
   "metadata": {},
   "source": [
    "or plot the network (**red** arrows represent inhibition, **blue** arrows represent activation, and **orange** arrows represent both):\n"
   ]
  },
  {
   "cell_type": "code",
   "execution_count": 11,
   "metadata": {},
   "outputs": [
    {
     "data": {
      "image/png": "[encoded data removed]",
      "text/plain": [
       "<Figure size 640x480 with 1 Axes>"
      ]
     },
     "metadata": {},
     "output_type": "display_data"
    }
   ],
   "source": [
    "my_grn.plot_network()"
   ]
  },
  {
   "cell_type": "markdown",
   "metadata": {},
   "source": [
    "Finally, we can run some simulations to test the dynamics of the established network:\n"
   ]
  },
  {
   "cell_type": "code",
   "execution_count": 12,
   "metadata": {},
   "outputs": [
    {
     "data": {
      "image/png": "[encoded data removed]",
      "text/plain": [
       "<Figure size 640x480 with 1 Axes>"
      ]
     },
     "metadata": {},
     "output_type": "display_data"
    }
   ],
   "source": [
    "# specify inputs\n",
    "\n",
    "IN = np.zeros(len(my_grn.input_species_names))\n",
    "IN[0] = 100\n",
    "IN[1] = 100\n",
    "\n",
    "T, Y = simulator.simulate_single(my_grn, IN)"
   ]
  },
  {
   "cell_type": "markdown",
   "metadata": {},
   "source": [
    "The simulations can also be performed for a sequence of inputs. In this case, we also need to specify for how long each input combination will be held (`t_single`).\n"
   ]
  },
  {
   "cell_type": "code",
   "execution_count": 13,
   "metadata": {},
   "outputs": [
    {
     "data": {
      "image/png": "[encoded data removed]",
      "text/plain": [
       "<Figure size 640x480 with 1 Axes>"
      ]
     },
     "metadata": {},
     "output_type": "display_data"
    }
   ],
   "source": [
    "T, Y = simulator.simulate_sequence(\n",
    "    my_grn, [(0, 0), (0, 100), (100, 0), (100, 100)], t_single=250\n",
    ")"
   ]
  },
  {
   "cell_type": "markdown",
   "metadata": {},
   "source": [
    "We can observe the following dynamics:\n",
    "\n",
    "- For the first 250 time units, both inputs (`X1` and `X2`) are absent (logical 0) and so is the output (`Y`).\n",
    "- The next 250 time units (from `t=250 a.u.` to `t=500 a.u.`) the first input (`X1`) is absent (logical 0) and the second output (`X2`) is present (logical 1). This activates the output (`Y`).\n",
    "- The next 250 time units (from `t=500 a.u.` to `t=750 a.u.`) the first input (`X1`) is present (logical 1) and the second output (`X2`) is absent (logical 0). This activates the output (`Y`).\n",
    "- The last 250 time units (from `t=750 a.u.` to `t=1000 a.u.`) both inputs (`X1` and `X2`) are present (logical 1). This inactivates the output (`Y`).\n"
   ]
  },
  {
   "cell_type": "markdown",
   "metadata": {},
   "source": []
  }
 ],
 "metadata": {
  "kernelspec": {
   "display_name": ".venv",
   "language": "python",
   "name": "python3"
  },
  "language_info": {
   "codemirror_mode": {
    "name": "ipython",
    "version": 3
   },
   "file_extension": ".py",
   "mimetype": "text/x-python",
   "name": "python",
   "nbconvert_exporter": "python",
   "pygments_lexer": "ipython3",
   "version": "3.11.0"
  }
 },
 "nbformat": 4,
 "nbformat_minor": 2
}
